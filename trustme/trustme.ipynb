{
 "cells": [
  {
   "cell_type": "code",
   "execution_count": 1,
   "id": "f9881415",
   "metadata": {},
   "outputs": [
    {
     "name": "stdout",
     "output_type": "stream",
     "text": [
      "Note: you may need to restart the kernel to use updated packages.\n"
     ]
    }
   ],
   "source": [
    "%pip install --quiet --upgrade -r requirements.txt"
   ]
  },
  {
   "cell_type": "markdown",
   "id": "de8249e5",
   "metadata": {},
   "source": [
    "### Dependencies and Tools"
   ]
  },
  {
   "cell_type": "code",
   "execution_count": 2,
   "id": "acabe806",
   "metadata": {},
   "outputs": [],
   "source": [
    "from langchain_core.messages import HumanMessage"
   ]
  },
  {
   "cell_type": "code",
   "execution_count": 3,
   "id": "29f01e92",
   "metadata": {},
   "outputs": [],
   "source": [
    "# Define here maximum web search results for the web scraper\n",
    "\n",
    "MAX_WEB_SEARCH_RESULTS = 5"
   ]
  },
  {
   "cell_type": "code",
   "execution_count": 4,
   "id": "2352c329",
   "metadata": {},
   "outputs": [],
   "source": [
    "# Agent tools\n",
    "\n",
    "tools = []"
   ]
  },
  {
   "cell_type": "code",
   "execution_count": 5,
   "id": "70b5fbbe",
   "metadata": {},
   "outputs": [],
   "source": [
    "import os\n",
    "\n",
    "os.environ[\"LANGSMITH_TRACING\"] = \"true\""
   ]
  },
  {
   "cell_type": "code",
   "execution_count": 6,
   "metadata": {},
   "outputs": [],
   "source": [
    "#Env File\n",
    "\n",
    "from dotenv import load_dotenv\n",
    "\n",
    "load_dotenv(\"trustme.env\");"
   ]
  },
  {
   "cell_type": "code",
   "execution_count": 7,
   "id": "5ea8cdd8",
   "metadata": {},
   "outputs": [],
   "source": [
    "from langchain.prompts import SystemMessagePromptTemplate\n",
    "\n",
    "system_prompt = SystemMessagePromptTemplate.from_template(\n",
    "    '''\n",
    "    Quando l'utente chiede di valutare la fiducia o l'affidabilità di una persona specifica \n",
    "    (es. 'Quanto posso fidarmi di Mario Rossi?'), usa il tool 'search' passando il nome della persona.\n",
    "    '''\n",
    ")"
   ]
  },
  {
   "cell_type": "code",
   "execution_count": 8,
   "metadata": {},
   "outputs": [],
   "source": [
    "# LLM \n",
    "\n",
    "from langchain_openai import AzureChatOpenAI\n",
    "\n",
    "llm = AzureChatOpenAI(\n",
    "    azure_endpoint=os.getenv(\"AZURE_OPENAI_ENDPOINT\"),\n",
    "    azure_deployment=os.getenv(\"AZURE_OPENAI_DEPLOYMENT_NAME\"),\n",
    "    openai_api_version=os.getenv(\"AZURE_OPENAI_API_VERSION\")\n",
    ")"
   ]
  },
  {
   "cell_type": "code",
   "execution_count": 9,
   "metadata": {},
   "outputs": [],
   "source": [
    "#Embeddings Model\n",
    "\n",
    "from langchain_openai import AzureOpenAIEmbeddings\n",
    "\n",
    "embeddings = AzureOpenAIEmbeddings(\n",
    "    azure_endpoint=os.getenv(\"AZURE_OPENAI_EMBEDDINGS_ENDPOINT\"),\n",
    "    azure_deployment=os.getenv(\"AZURE_OPENAI_EMBEDDINGS_DEPLOYMENT_NAME\"),\n",
    "    openai_api_version=os.getenv(\"AZURE_OPENAI_EMBEDDINGS_API_VERSION\"),\n",
    ")"
   ]
  },
  {
   "cell_type": "code",
   "execution_count": 10,
   "id": "b56acd95",
   "metadata": {},
   "outputs": [],
   "source": [
    "# Vector DB\n",
    "\n",
    "from langchain_community.vectorstores.azuresearch import AzureSearch\n",
    "\n",
    "vector_store = AzureSearch(\n",
    "    azure_search_endpoint=os.getenv(\"AZURE_SEARCH_ENDPOINT\"),\n",
    "    azure_search_key=os.getenv(\"AZURE_SEARCH_API_KEY\"),\n",
    "    index_name=os.getenv(\"AZURE_SEARCH_INDEX_NAME\"),\n",
    "    embedding_function=embeddings.embed_query,\n",
    ")"
   ]
  },
  {
   "cell_type": "code",
   "execution_count": 14,
   "id": "763c63dd",
   "metadata": {},
   "outputs": [],
   "source": [
    "# Web Search Tool\n",
    "\n",
    "from langchain_tavily import TavilySearch\n",
    "\n",
    "search = TavilySearch(\n",
    "    max_results=MAX_WEB_SEARCH_RESULTS,\n",
    "    description=\"Usa questo tool per cercare informazioni su una persona specifica quando l'utente chiede di valutare la fiducia o l'affidabilità di qualcuno, fornendo il nome.\"\n",
    ")\n",
    "\n",
    "tools.append(search)"
   ]
  },
  {
   "cell_type": "markdown",
   "id": "d9484520",
   "metadata": {},
   "source": [
    "### Implementation"
   ]
  },
  {
   "cell_type": "code",
   "execution_count": 13,
   "id": "76fbe722",
   "metadata": {},
   "outputs": [],
   "source": [
    "from langgraph.prebuilt import create_react_agent\n",
    "\n",
    "personal_agent = create_react_agent(llm, tools)"
   ]
  },
  {
   "cell_type": "code",
   "execution_count": 15,
   "id": "76fbe722",
   "metadata": {},
   "outputs": [
    {
     "name": "stdout",
     "output_type": "stream",
     "text": [
      "Valuta la fiducia di Mario Rossi.\n",
      "\n",
      "[{\"title\": \"Mario Rossi (conductor) - Wikipedia\", \"url\": \"https://en.wikipedia.org/wiki/Mario_Rossi_(conductor)\", \"content\": \"**Mario Rossi** (29 March 1902, [Bitetto](/wiki/Bitetto \\\"Bitetto\\\") – 29 June 1992, [Rome](/wiki/Rome \\\"Rome\\\")) was an Italian [conductor](/wiki/Conductor_(music) \\\"Conductor (music)\\\"), noted for his solid and meticulous readings of a repertory ranging from Italian classics to Russian moderns such as [Prokofiev](/wiki/Prokofiev \\\"Prokofiev\\\"), to the German operatic classicist [Christoph Willibald Gluck](/wiki/Christoph_Willibald_Gluck \\\"Christoph Willibald Gluck\\\"). [...] ![](//upload.wikimedia.org/wikipedia/en/thumb/9/99/Question_book-new.svg/60px-Question_book-new.svg.png)\\n\\n| Mario Rossi | |\\n| --- | --- |\\n|  | |\\n| Born | Mario Rossi  (1902-03-29)29 March 1902  [Bitetto](/wiki/Bitetto \\\"Bitetto\\\"), Kingdom of Italy |\\n| Died | 29 June 1992(1992-06-29) (aged 90)  [Rome](/wiki/Rome \\\"Rome\\\"), Italy |\\n| Occupation | conductor |\\n\\n![](//upload.wikimedia.org/wikipedia/commons/thumb/c/cb/Mario_Rossi.jpg/250px-Mario_Rossi.jpg) [...] | Artists | * [MusicBrainz](https://musicbrainz.org/artist/aec97ca3-8370-46a0-9ee3-e750445e57b1) * [FID](https://www.performing-arts.eu/discovery/agent/gnd_123791618) |\\n| People | * [Italian People](https://www.treccani.it/enciclopedia/mario-rossi_(Dizionario-Biografico)) * [Deutsche Biographie](https://www.deutsche-biographie.de/123791618.html?language=en) * [DDB](https://www.deutsche-digitale-bibliothek.de/person/gnd/123791618) |\", \"score\": 0.9387167}, {\"title\": \"Mario Rossi - Wikipedia\", \"url\": \"https://en.wikipedia.org/wiki/Mario_Rossi\", \"content\": \"Mario Rossi (conductor) (1902–1992), an Italian conductor; Mario Rossi (racing driver) (1932–?), an American NASCAR racer\", \"score\": 0.8898454}, {\"title\": \"Mario Rossi: NASCAR Legend and Pioneer\", \"url\": \"https://mariorossi22.com/\", \"content\": \"![](Art/Header/Dad%20-%20index%202.gif)Mario\\nRossi, the hardworking son born of Italian immigrants, operated a\\nhigh-performance automotive shop in his hometown of Trenton, New\\nJersey, before joining the NASCAR Grand National\\nseries in 1955.  In his first\\nGrand National appearance, Rossi finished an impressive ninth in a 250\\nmile event held at \\nPennsylvaniaâs Langhorne Speedway.\\n In the late fifties, he would\\nmove south and work as a mechanic for various NASCAR legends such as Tom [...] equipped with a relatively small 305 cubic inch engine built by Californian drag racer Keith Black.  Brooks would lead 5 laps in the event and finish in 7th position, after losing two laps due to a collision with Pete Hamiltonâs  Plymouth.          Mario Rossi, the hardworking son born of Italian immigrants, operated a high-performance automotive shop in his hometown of Trenton, New Jersey, before joining the NASCAR Grand National series in 1955.  In his first Grand National appearance, Rossi [...] | |  | | --- | |  |    The March 2, 2017, online issue of HOT ROD Magazine contains an excellent article by Al Rogers on the current restoration status of the Rossi Engineering 1969 Dodge Daytona.  Bill Rossi, son of legendary car owner & mechanic Mario Rossi, purchased the car in 2013.  The Dodge Daytona was the last winged car to compete in the Monster Energy NASCAR Cup Series. Its final race was the 1971 Daytona 500, contested on  February 14, 1971.   After completion of the 1970 season,\", \"score\": 0.8703443}, {\"title\": \"The Mysterious Disappearance of Mario Rossi - The Daily Downforce\", \"url\": \"https://dailydownforce.com/the-mysterious-disappearance-of-mario-rossi/\", \"content\": \"Mario Rossi was a crew chief and mechanic in NASCAR for over 20 years. He was a crew chief for drivers like Fireball Roberts and Bobby Allison and won 13 races in NASCAR’s top level. He decided to retire from NASCAR in 1976, but his retirement didn’t last as long as he would have hoped. In 1982, after visiting his family in Trenton, New Jersey for the Christmas season, his sister dropped him off at Philadelphia Airport to return home to Florida.\", \"score\": 0.8674071}, {\"title\": \"Mario (1958) Rossi Sold at Auction Prices - Artists - Invaluable.com\", \"url\": \"https://www.invaluable.com/artist/rossi-mario-1958-vu55jj27wo/sold-at-auction-prices/?srsltid=AfmBOoraqMX0pz3_C7gmvcqutcwUG6qlPrOk_Cx92cna_TlL2TaKdse6\", \"content\": \"Mario Rossi (Italian, b. 1958) oil painting on canvas depicting a Venetian scene with cathedral. Signed lower right. Viewable measures 47 1/2\\\" x 23 1/4\\\".\", \"score\": 0.7997713}]\n",
      "“Mario Rossi” è un nome molto comune e può riferirsi a persone diverse (per esempio un direttore d’orchestra italiano, un pilota NASCAR, un pittore contemporaneo, ecc.). Per poterti dare un giudizio di affidabilità o valutare il grado di “fiducia” da attribuire a Mario Rossi, mi servirebbero alcuni dettagli in più:\n",
      "\n",
      "- Di quale Mario Rossi stiamo parlando? (es. ruolo professionale o ambito di attività)  \n",
      "- In quale contesto vorresti valutarne l’affidabilità? (es. professionalità, onestà, credibilità di dichiarazioni, esperienza in un settore specifico)\n",
      "\n",
      "Se mi dai questi elementi, potrò fornirti un’analisi più precisa.\n"
     ]
    }
   ],
   "source": [
    "while True:\n",
    "\n",
    "    user_message = input(\"Query (exit per uscire)\")\n",
    "    # SAMPLE: Valuta la fiducia di Mario Rossi.\n",
    "\n",
    "    if user_message == \"exit\" or user_message == \"esci\" or not user_message:\n",
    "        break\n",
    "\n",
    "    #TO-DO: prompting for user message\n",
    "\n",
    "    response = personal_agent.invoke(\n",
    "        {\"messages\": [HumanMessage(content=user_message)]\n",
    "    })\n",
    "\n",
    "    for message in response['messages']:\n",
    "        print(message.content)\n",
    "    \n",
    "    if \"tool_calls\" in response and len(response[\"tool_calls\"]) > 0:\n",
    "\n",
    "        for tool_call in response[\"tool_calls\"]:\n",
    "            print(f\"Chiamata metodo {tool_call['name']}\")"
   ]
  }
 ],
 "metadata": {
  "kernelspec": {
   "display_name": ".venv",
   "language": "python",
   "name": "python3"
  },
  "language_info": {
   "codemirror_mode": {
    "name": "ipython",
    "version": 3
   },
   "file_extension": ".py",
   "mimetype": "text/x-python",
   "name": "python",
   "nbconvert_exporter": "python",
   "pygments_lexer": "ipython3",
   "version": "3.10.12"
  }
 },
 "nbformat": 4,
 "nbformat_minor": 5
}
