{
 "cells": [
  {
   "cell_type": "code",
   "execution_count": 1,
   "id": "f9881415",
   "metadata": {},
   "outputs": [
    {
     "name": "stdout",
     "output_type": "stream",
     "text": [
      "Note: you may need to restart the kernel to use updated packages.\n"
     ]
    }
   ],
   "source": [
    "%pip install --quiet --upgrade -r requirements.txt"
   ]
  },
  {
   "cell_type": "markdown",
   "id": "de8249e5",
   "metadata": {},
   "source": [
    "### Dependencies and Tools"
   ]
  },
  {
   "cell_type": "code",
   "execution_count": 2,
   "id": "acabe806",
   "metadata": {},
   "outputs": [],
   "source": [
    "from langchain_core.messages import HumanMessage"
   ]
  },
  {
   "cell_type": "code",
   "execution_count": 3,
   "id": "29f01e92",
   "metadata": {},
   "outputs": [],
   "source": [
    "# Define here maximum web search results for the web scraper\n",
    "\n",
    "MAX_WEB_SEARCH_RESULTS = 5"
   ]
  },
  {
   "cell_type": "code",
   "execution_count": 4,
   "id": "2352c329",
   "metadata": {},
   "outputs": [],
   "source": [
    "# Agent tools\n",
    "\n",
    "tools = []"
   ]
  },
  {
   "cell_type": "code",
   "execution_count": 5,
   "id": "70b5fbbe",
   "metadata": {},
   "outputs": [],
   "source": [
    "import os\n",
    "\n",
    "os.environ[\"LANGSMITH_TRACING\"] = \"true\""
   ]
  },
  {
   "cell_type": "code",
   "execution_count": 6,
   "metadata": {},
   "outputs": [],
   "source": [
    "#Env File\n",
    "\n",
    "from dotenv import load_dotenv\n",
    "\n",
    "load_dotenv(\"trustme.env\");"
   ]
  },
  {
   "cell_type": "code",
   "execution_count": 7,
   "id": "5ea8cdd8",
   "metadata": {},
   "outputs": [],
   "source": [
    "from langchain.prompts import SystemMessagePromptTemplate\n",
    "\n",
    "system_prompt = SystemMessagePromptTemplate.from_template(\n",
    "    '''\n",
    "    Quando l'utente chiede di valutare la fiducia o l'affidabilità di una persona specifica \n",
    "    (es. 'Quanto posso fidarmi di Mario Rossi?'), usa il tool 'search' passando il nome della persona.\n",
    "    '''\n",
    ")"
   ]
  },
  {
   "cell_type": "code",
   "execution_count": 8,
   "metadata": {},
   "outputs": [],
   "source": [
    "# LLM \n",
    "\n",
    "from langchain_openai import AzureChatOpenAI\n",
    "\n",
    "llm = AzureChatOpenAI(\n",
    "    azure_endpoint=os.getenv(\"AZURE_OPENAI_ENDPOINT\"),\n",
    "    azure_deployment=os.getenv(\"AZURE_OPENAI_DEPLOYMENT_NAME\"),\n",
    "    openai_api_version=os.getenv(\"AZURE_OPENAI_API_VERSION\")\n",
    ")"
   ]
  },
  {
   "cell_type": "code",
   "execution_count": 9,
   "metadata": {},
   "outputs": [],
   "source": [
    "#Embeddings Model\n",
    "\n",
    "from langchain_openai import AzureOpenAIEmbeddings\n",
    "\n",
    "embeddings = AzureOpenAIEmbeddings(\n",
    "    azure_endpoint=os.getenv(\"AZURE_OPENAI_EMBEDDINGS_ENDPOINT\"),\n",
    "    azure_deployment=os.getenv(\"AZURE_OPENAI_EMBEDDINGS_DEPLOYMENT_NAME\"),\n",
    "    openai_api_version=os.getenv(\"AZURE_OPENAI_EMBEDDINGS_API_VERSION\"),\n",
    ")"
   ]
  },
  {
   "cell_type": "code",
   "execution_count": 10,
   "id": "b56acd95",
   "metadata": {},
   "outputs": [],
   "source": [
    "# Vector DB\n",
    "\n",
    "from langchain_community.vectorstores.azuresearch import AzureSearch\n",
    "\n",
    "vector_store = AzureSearch(\n",
    "    azure_search_endpoint=os.getenv(\"AZURE_SEARCH_ENDPOINT\"),\n",
    "    azure_search_key=os.getenv(\"AZURE_SEARCH_API_KEY\"),\n",
    "    index_name=os.getenv(\"AZURE_SEARCH_INDEX_NAME\"),\n",
    "    embedding_function=embeddings.embed_query,\n",
    ")"
   ]
  },
  {
   "cell_type": "code",
   "execution_count": null,
   "id": "763c63dd",
   "metadata": {},
   "outputs": [
    {
     "name": "stderr",
     "output_type": "stream",
     "text": [
      "/tmp/ipykernel_305800/3213391993.py:5: LangChainDeprecationWarning: The class `TavilySearchResults` was deprecated in LangChain 0.3.25 and will be removed in 1.0. An updated version of the class exists in the :class:`~langchain-tavily package and should be used instead. To use it run `pip install -U :class:`~langchain-tavily` and import as `from :class:`~langchain_tavily import TavilySearch``.\n",
      "  search = TavilySearchResults(\n"
     ]
    }
   ],
   "source": [
    "# Web Search Tool\n",
    "\n",
    "from langchain_tavily import TavilySearch\n",
    "\n",
    "search = TavilySearch(\n",
    "    max_results=MAX_WEB_SEARCH_RESULTS,\n",
    "    description=\"Usa questo tool per cercare informazioni su una persona specifica quando l'utente chiede di valutare la fiducia o l'affidabilità di qualcuno, fornendo il nome.\"\n",
    ")\n",
    "\n",
    "tools.append(search)"
   ]
  },
  {
   "cell_type": "markdown",
   "id": "d9484520",
   "metadata": {},
   "source": [
    "### Implementation"
   ]
  },
  {
   "cell_type": "code",
   "execution_count": 13,
   "id": "76fbe722",
   "metadata": {},
   "outputs": [],
   "source": [
    "from langgraph.prebuilt import create_react_agent\n",
    "\n",
    "personal_agent = create_react_agent(llm, tools)"
   ]
  },
  {
   "cell_type": "code",
   "execution_count": null,
   "id": "76fbe722",
   "metadata": {},
   "outputs": [
    {
     "name": "stdout",
     "output_type": "stream",
     "text": [
      "User message: Valuta la fiducia di mario rossi.\n",
      "Agent message: [HumanMessage(content='Valuta la fiducia di mario rossi.', additional_kwargs={}, response_metadata={}, id='72625af2-24d0-4eaf-ae0d-5bf7192cf529'), AIMessage(content='“Mario Rossi” è un nome molto comune (spesso usato come esempio), perciò, senza ulteriori dettagli (ad esempio: professione, ambito di attività, luogo di residenza, eventuali fonti o riferimenti specifici), non posso formulare una valutazione attendibile sulla sua affidabilità.  \\nMi puoi fornire qualche informazione in più su quale “Mario Rossi” intendi?', additional_kwargs={'refusal': None}, response_metadata={'token_usage': {'completion_tokens': 364, 'prompt_tokens': 94, 'total_tokens': 458, 'completion_tokens_details': {'accepted_prediction_tokens': 0, 'audio_tokens': 0, 'reasoning_tokens': 256, 'rejected_prediction_tokens': 0}, 'prompt_tokens_details': {'audio_tokens': 0, 'cached_tokens': 0}}, 'model_name': 'o4-mini-2025-04-16', 'system_fingerprint': None, 'id': 'chatcmpl-BiIaPQxxxT6iqwzQGpVoDHUrVAh0V', 'service_tier': None, 'prompt_filter_results': [{'prompt_index': 0, 'content_filter_results': {'hate': {'filtered': False, 'severity': 'safe'}, 'jailbreak': {'filtered': False, 'detected': False}, 'self_harm': {'filtered': False, 'severity': 'safe'}, 'sexual': {'filtered': False, 'severity': 'safe'}, 'violence': {'filtered': False, 'severity': 'safe'}}}], 'finish_reason': 'stop', 'logprobs': None, 'content_filter_results': {'hate': {'filtered': False, 'severity': 'safe'}, 'protected_material_code': {'filtered': False, 'detected': False}, 'protected_material_text': {'filtered': False, 'detected': False}, 'self_harm': {'filtered': False, 'severity': 'safe'}, 'sexual': {'filtered': False, 'severity': 'safe'}, 'violence': {'filtered': False, 'severity': 'safe'}}}, id='run--ca073e3f-0c0e-47a7-a6d1-6f1fb7baba19-0', usage_metadata={'input_tokens': 94, 'output_tokens': 364, 'total_tokens': 458, 'input_token_details': {'audio': 0, 'cache_read': 0}, 'output_token_details': {'audio': 0, 'reasoning': 256}})]\n"
     ]
    }
   ],
   "source": [
    "while True:\n",
    "\n",
    "    user_message = input(\"Query (exit per uscire)\")\n",
    "\n",
    "    if user_message == \"exit\" or user_message == \"esci\" or not user_message:\n",
    "        break\n",
    "\n",
    "    print(f\"User message: {user_message}\")\n",
    "\n",
    "    response = personal_agent.invoke(\n",
    "        {\"messages\": [HumanMessage(content=user_message)]\n",
    "    })\n",
    "\n",
    "    print(f\"Agent message: {response['messages']}\")\n",
    "    \n",
    "    if \"tool_calls\" in response and len(response[\"tool_calls\"]) > 0:\n",
    "\n",
    "        for tool_call in response[\"tool_calls\"]:\n",
    "            print(f\"Chiamata metodo {tool_call['name']}\")"
   ]
  }
 ],
 "metadata": {
  "kernelspec": {
   "display_name": ".venv",
   "language": "python",
   "name": "python3"
  },
  "language_info": {
   "codemirror_mode": {
    "name": "ipython",
    "version": 3
   },
   "file_extension": ".py",
   "mimetype": "text/x-python",
   "name": "python",
   "nbconvert_exporter": "python",
   "pygments_lexer": "ipython3",
   "version": "3.10.12"
  }
 },
 "nbformat": 4,
 "nbformat_minor": 5
}
