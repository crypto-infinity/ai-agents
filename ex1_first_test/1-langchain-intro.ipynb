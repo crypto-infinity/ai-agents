{
 "cells": [
  {
   "cell_type": "markdown",
   "id": "273a67dc",
   "metadata": {},
   "source": [
    "# Dipendenze"
   ]
  },
  {
   "cell_type": "code",
   "execution_count": 18,
   "id": "7a751a9d",
   "metadata": {},
   "outputs": [
    {
     "name": "stdout",
     "output_type": "stream",
     "text": [
      "Note: you may need to restart the kernel to use updated packages.\n"
     ]
    }
   ],
   "source": [
    "%pip install --quiet --upgrade python-dotenv pypdf langchain-openai langchain langchain-core langchain-text-splitters langchain-community langgraph"
   ]
  },
  {
   "cell_type": "markdown",
   "id": "d09c2fe2",
   "metadata": {},
   "source": [
    "### LangSmith Setup"
   ]
  },
  {
   "cell_type": "code",
   "execution_count": null,
   "id": "fdafe786",
   "metadata": {},
   "outputs": [],
   "source": [
    "import getpass\n",
    "import os\n",
    "\n",
    "os.environ[\"LANGSMITH_TRACING\"] = \"true\""
   ]
  },
  {
   "cell_type": "code",
   "execution_count": 31,
   "id": "0f5e2367",
   "metadata": {},
   "outputs": [],
   "source": [
    "#Env File\n",
    "\n",
    "from dotenv import load_dotenv\n",
    "\n",
    "load_dotenv(\"intro.env\");"
   ]
  },
  {
   "cell_type": "markdown",
   "id": "78fad48d",
   "metadata": {},
   "source": [
    "### OAI LLM Setup"
   ]
  },
  {
   "cell_type": "code",
   "execution_count": 29,
   "id": "5973b423",
   "metadata": {},
   "outputs": [],
   "source": [
    "from langchain_openai import AzureChatOpenAI\n",
    "\n",
    "llm = AzureChatOpenAI(\n",
    "    azure_endpoint=os.getenv(\"AZURE_OPENAI_ENDPOINT\"),\n",
    "    azure_deployment=os.getenv(\"AZURE_OPENAI_DEPLOYMENT_NAME\"),\n",
    "    openai_api_version=os.getenv(\"AZURE_OPENAI_API_VERSION\"),\n",
    ")"
   ]
  },
  {
   "cell_type": "markdown",
   "id": "275d0a30",
   "metadata": {},
   "source": [
    "### Embeddings setup"
   ]
  },
  {
   "cell_type": "code",
   "execution_count": 30,
   "id": "a717b12f",
   "metadata": {},
   "outputs": [],
   "source": [
    "from langchain_openai import AzureOpenAIEmbeddings\n",
    "\n",
    "embeddings = AzureOpenAIEmbeddings(\n",
    "    azure_endpoint=os.getenv(\"AZURE_OPENAI_EMBEDDINGS_ENDPOINT\"),\n",
    "    azure_deployment=os.getenv(\"AZURE_OPENAI_EMBEDDINGS_DEPLOYMENT_NAME\"),\n",
    "    openai_api_version=os.getenv(\"AZURE_OPENAI_EMBEDDINGS_API_VERSION\"),\n",
    ")"
   ]
  },
  {
   "cell_type": "markdown",
   "id": "789a987f",
   "metadata": {},
   "source": [
    "### VectorStorage"
   ]
  },
  {
   "cell_type": "code",
   "execution_count": 16,
   "id": "cecf9543",
   "metadata": {},
   "outputs": [],
   "source": [
    "from langchain_core.vectorstores import InMemoryVectorStore\n",
    "\n",
    "vector_store = InMemoryVectorStore(embeddings)"
   ]
  },
  {
   "cell_type": "markdown",
   "id": "3ba36330",
   "metadata": {},
   "source": [
    "# Progetto"
   ]
  },
  {
   "cell_type": "markdown",
   "id": "5bba178d",
   "metadata": {},
   "source": [
    "### 1 - Retrieval"
   ]
  },
  {
   "cell_type": "code",
   "execution_count": 8,
   "id": "0668ce3a",
   "metadata": {},
   "outputs": [],
   "source": [
    "DIR_PATH = \"./data\""
   ]
  },
  {
   "cell_type": "code",
   "execution_count": 9,
   "id": "1b329b63",
   "metadata": {},
   "outputs": [],
   "source": [
    "from langchain_community.document_loaders import PyPDFDirectoryLoader\n",
    "import pypdf\n",
    "\n",
    "loader = PyPDFDirectoryLoader(DIR_PATH)\n",
    "docs = loader.load()"
   ]
  },
  {
   "cell_type": "code",
   "execution_count": 10,
   "id": "d2999275",
   "metadata": {},
   "outputs": [
    {
     "name": "stdout",
     "output_type": "stream",
     "text": [
      "1375\n"
     ]
    }
   ],
   "source": [
    "print(len(docs[0].page_content))"
   ]
  },
  {
   "cell_type": "code",
   "execution_count": null,
   "id": "5956d7f4",
   "metadata": {},
   "outputs": [
    {
     "name": "stdout",
     "output_type": "stream",
     "text": [
      "Split into 36 sub-documents.\n"
     ]
    }
   ],
   "source": [
    "#Chunking\n",
    "\n",
    "from langchain_text_splitters import RecursiveCharacterTextSplitter\n",
    "\n",
    "text_splitter = RecursiveCharacterTextSplitter(\n",
    "    chunk_size=500,  # chunk size (characters)\n",
    "    chunk_overlap=100,  # chunk overlap (characters)\n",
    "    add_start_index=True,  # track index in original document\n",
    ")\n",
    "\n",
    "all_splits = text_splitter.split_documents(docs)\n",
    "\n",
    "print(f\"Split into {len(all_splits)} sub-documents.\")"
   ]
  },
  {
   "cell_type": "code",
   "execution_count": 17,
   "id": "d98d6514",
   "metadata": {},
   "outputs": [
    {
     "name": "stdout",
     "output_type": "stream",
     "text": [
      "657ee2e3-eaa9-433c-8931-6dd61927d86b\n",
      "1e3c0db8-2b9e-4d72-b7b5-5abd771cf0bc\n",
      "052beaa8-cd0b-4efc-a1b6-4e7ac5a03ddc\n"
     ]
    }
   ],
   "source": [
    "ids = vector_store.add_documents(documents=all_splits)\n",
    "\n",
    "for i in range(3):\n",
    "    print(ids[i])"
   ]
  },
  {
   "cell_type": "markdown",
   "id": "84ed0c1c",
   "metadata": {},
   "source": [
    "### 2 - Retrieval & Generation"
   ]
  },
  {
   "cell_type": "code",
   "execution_count": null,
   "id": "e948a024",
   "metadata": {},
   "outputs": [],
   "source": []
  }
 ],
 "metadata": {
  "kernelspec": {
   "display_name": ".venv",
   "language": "python",
   "name": "python3"
  },
  "language_info": {
   "codemirror_mode": {
    "name": "ipython",
    "version": 3
   },
   "file_extension": ".py",
   "mimetype": "text/x-python",
   "name": "python",
   "nbconvert_exporter": "python",
   "pygments_lexer": "ipython3",
   "version": "3.12.2"
  }
 },
 "nbformat": 4,
 "nbformat_minor": 5
}
